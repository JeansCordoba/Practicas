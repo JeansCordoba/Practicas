{
  "nbformat": 4,
  "nbformat_minor": 0,
  "metadata": {
    "colab": {
      "provenance": [],
      "authorship_tag": "ABX9TyNnfokCZA9g1ughk5p5Ogck",
      "include_colab_link": true
    },
    "kernelspec": {
      "name": "python3",
      "display_name": "Python 3"
    },
    "language_info": {
      "name": "python"
    }
  },
  "cells": [
    {
      "cell_type": "markdown",
      "metadata": {
        "id": "view-in-github",
        "colab_type": "text"
      },
      "source": [
        "<a href=\"https://colab.research.google.com/github/JeansCordoba/Practicas/blob/main/RickandMortyAPPI.ipynb\" target=\"_parent\"><img src=\"https://colab.research.google.com/assets/colab-badge.svg\" alt=\"Open In Colab\"/></a>"
      ]
    },
    {
      "cell_type": "markdown",
      "source": [
        "###**Funciones que debe tener la API de Rick and Morty**\n",
        "1. Filtro de busqueda de personaje(estado,nombre,id,especie)\n",
        "2. Buscar por nombre y mostrar la foto del personaje\n",
        "3. Mostrar a la familia smith y sus estados con las respectivas fotos\n",
        "4. Buscar por Id y mostrar la información de dicho personaje"
      ],
      "metadata": {
        "id": "WvZUhRPIa3Lm"
      }
    },
    {
      "cell_type": "code",
      "execution_count": null,
      "metadata": {
        "id": "9Pn_z8VGiGgd"
      },
      "outputs": [],
      "source": [
        "import cv2\n",
        "import numpy as np\n",
        "import matplotlib.pyplot as plt\n",
        "import requests\n",
        "import json\n",
        "from IPython.display import display, clear_output\n",
        "from google.colab.patches import cv2_imshow # Si estás en Google Colab\n",
        "# Si no estás en Colab, usa: cv2.imshow() y cv2.waitKey(0)"
      ]
    },
    {
      "cell_type": "code",
      "source": [
        "def GetAppi(Url):\n",
        "  Response = requests.get(Url)\n",
        "  try:\n",
        "    if Response.status_code == 200:\n",
        "      Data = Response.json()\n",
        "      return Data\n",
        "  except:\n",
        "    print(f'Error: {Response.status_code}')\n",
        "    return None\n",
        "\n",
        "def Characters():\n",
        "  Url = 'https://rickandmortyapi.com/api/character/'\n",
        "  Characters = GetAppi(Url)\n",
        "  PrintCharacters(Characters)\n",
        "def ShowImageCharacter(Url):\n",
        "  Response = requests.get(Url)\n",
        "  ImgArray = np.asarray(bytearray(Response.content), dtype=np.uint8)\n",
        "  Img = cv2.imdecode(ImgArray, -1)\n",
        "  cv2_imshow(Img)\n",
        "\n",
        "def PrintCharacters(Characters):\n",
        "  ImgUrl = []\n",
        "  if Characters is None or 'results' not in Characters:\n",
        "    print('No se encontraron resultados')\n",
        "    return\n",
        "  else:\n",
        "    for character in Characters['results']:\n",
        "      ImgUrl = character['image']\n",
        "      print('Id: {}'.format(character['id']))\n",
        "      print('Nombre: {}'.format(character['name']))\n",
        "      print('Especie: {}'.format(character['species']))\n",
        "      print('Genero: {}'.format(character['gender']))\n",
        "      print('Estado: {}'.format(character['status']))\n",
        "      print('Ubicación: {}'.format(character['location']['name']))\n",
        "      ShowImageCharacter(ImgUrl)\n",
        "      print('\\n')\n",
        "\n",
        "def SearchByStatus(Status):\n",
        "  Url = 'https://rickandmortyapi.com/api/character/?status={0}'.format(Status.lower())\n",
        "  Characters = GetAppi(Url)\n",
        "  PrintCharacters(Characters)\n",
        "\n",
        "def ShowFamilySmith():\n",
        "  Url = 'https://rickandmortyapi.com/api/character/?name=smith'\n",
        "  Characters = GetAppi(Url)\n",
        "  PrintCharacters(Characters)\n",
        "\n",
        "def SearchByName(Name):\n",
        "  Url = 'https://rickandmortyapi.com/api/character/?name={0}'.format(Name.lower())\n",
        "  Characters = GetAppi(Url)\n",
        "  PrintCharacters(Characters)\n",
        "\n",
        "def SearchById(Id):\n",
        "  Url = 'https://rickandmortyapi.com/api/character/{0}'.format(Id.lower())\n",
        "  Characters = GetAppi(Url)\n",
        "  PrintCharacters(Characters)\n",
        "\n",
        "def SearchBySpecies(Species):\n",
        "  Url = 'https://rickandmortyapi.com/api/character/?species={0}'.format(Species.lower())\n",
        "  Characters = GetAppi(Url)\n",
        "  PrintCharacters(Characters)\n",
        "\n"
      ],
      "metadata": {
        "id": "HDHEuhzciSyc"
      },
      "execution_count": null,
      "outputs": []
    },
    {
      "cell_type": "code",
      "source": [
        "def ClearColab():\n",
        "   get_ipython().system('clear')"
      ],
      "metadata": {
        "id": "KwyjJKULFS5L"
      },
      "execution_count": null,
      "outputs": []
    },
    {
      "cell_type": "code",
      "source": [
        "def ShowMenu():\n",
        "  ClearColab()\n",
        "  print(\"\\n\" + \" Bienvenido a la API de Rick and Morty \".center(70, '-'))\n",
        "  print(\"\\nSelecciona una opción:\")\n",
        "  print(\"1. Mostrar todos los personajes\")\n",
        "  print(\"2. Buscar personajes por estado (Alive, Dead, unknown)\")\n",
        "  print(\"3. Mostrar la familia Smith\")\n",
        "  print(\"4. Buscar personaje por nombre\")\n",
        "  print(\"5. Buscar personaje por ID\")\n",
        "  print(\"6. Buscar personajes por especie\")\n",
        "  print(\"7. Salir\")\n",
        "  opcion = input(\"\\nIngresa el número de tu opción: \\n\")\n",
        "  return opcion"
      ],
      "metadata": {
        "id": "KkOtSHlQEdf2"
      },
      "execution_count": null,
      "outputs": []
    },
    {
      "cell_type": "code",
      "source": [
        "def menu():\n",
        "    Center = 70\n",
        "    while True:\n",
        "        opcion = ShowMenu()\n",
        "        if opcion == \"1\":\n",
        "            print(\"\\n\" + \" Mostrando todos los personajes \".center(Center, '-'))\n",
        "            Characters()\n",
        "            input(\"\\nPresiona Enter para continuar... \\n\")\n",
        "\n",
        "        elif opcion == \"2\":\n",
        "            ClearColab()\n",
        "            status = input(\"\\nIngresa el estado (Alive, Dead, unknown): \")\n",
        "            print(f\"\\n\" + f\" Mostrando personajes con estado '{status}' \".center(Center, '-'))\n",
        "            SearchByStatus(status)\n",
        "            input(\"\\nPresiona Enter para continuar... \\n\")\n",
        "\n",
        "        elif opcion == \"3\":\n",
        "            ClearColab()\n",
        "            print(\"\\n\" + \" Mostrando la familia Smith \".center(Center, '-'))\n",
        "            ShowFamilySmith()\n",
        "            input(\"\\nPresiona Enter para continuar... \\n\")\n",
        "\n",
        "        elif opcion == \"4\":\n",
        "            ClearColab()\n",
        "            name = input(\"\\nIngresa el nombre del personaje: \")\n",
        "            print(f\"\\n\" + f\" Mostrando resultados para '{name}' \".center(Center, '-'))\n",
        "            SearchByName(name)\n",
        "            input(\"\\nPresiona Enter para continuar... \\n\")\n",
        "\n",
        "        elif opcion == \"5\":\n",
        "            ClearColab()\n",
        "            id = input(\"\\nIngresa el ID del personaje: \")\n",
        "            print(f\"\\n\" + f\" Mostrando personaje con ID {id} \".center(Center, '-'))\n",
        "            SearchById(id)\n",
        "            input(\"\\nPresiona Enter para continuar...\\n\")\n",
        "\n",
        "        elif opcion == \"6\":\n",
        "            ClearColab()\n",
        "            species = input(\"\\nIngresa la especie a buscar: \")\n",
        "            print(f\"\\n\" + f\" Mostrando personajes de especie '{species}' \".center(Center, '-'))\n",
        "            SearchBySpecies(species)\n",
        "            input(\"\\nPresiona Enter para continuar... \\n\")\n",
        "\n",
        "        elif opcion == \"7\":\n",
        "            ClearColab()\n",
        "            print(\"\\n\" + \" Gracias por usar la API de Rick and Morty \".center(Center, '-'))\n",
        "            break\n",
        "\n",
        "        else:\n",
        "            print(\"\\nOpción no válida. Por favor ingresa un número del 1 al 7.\")"
      ],
      "metadata": {
        "id": "DZhEymDaWJm5"
      },
      "execution_count": null,
      "outputs": []
    },
    {
      "cell_type": "code",
      "source": [
        "menu()"
      ],
      "metadata": {
        "id": "5lWjHdlBD1O1"
      },
      "execution_count": null,
      "outputs": []
    }
  ]
}